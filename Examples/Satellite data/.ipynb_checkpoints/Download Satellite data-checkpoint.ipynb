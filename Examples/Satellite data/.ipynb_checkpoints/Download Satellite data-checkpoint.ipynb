{
 "cells": [
  {
   "cell_type": "markdown",
   "id": "48fff0da-2d7a-49ea-ba13-d4768a89bae0",
   "metadata": {},
   "source": [
    "# Download Satellite data"
   ]
  },
  {
   "cell_type": "markdown",
   "id": "2c773dd4-6dc6-4c86-aeed-ad82b6118ccb",
   "metadata": {},
   "source": [
    "## ECMWF"
   ]
  },
  {
   "cell_type": "markdown",
   "id": "7ac42c26-f454-40e5-8dc2-668efbc2d02b",
   "metadata": {},
   "source": [
    "### Installation of ECMWF API key"
   ]
  },
  {
   "cell_type": "markdown",
   "id": "ad7c9c5c-ed4c-41b7-afdb-40fb471e015b",
   "metadata": {},
   "source": [
    "1 - to be able to use Hapi to download ECMWF data you need to register and setup your account in the ECMWF website (https://apps.ecmwf.int/registration/)\n",
    "\n",
    "2 - Install ECMWF key (instruction are here https://confluence.ecmwf.int/display/WEBAPI/Access+ECMWF+Public+Datasets#AccessECMWFPublicDatasets-key)"
   ]
  },
  {
   "cell_type": "markdown",
   "id": "f3d80671-55eb-4915-990b-78f1dcc4e0d1",
   "metadata": {},
   "source": [
    "### Using ResmoteSensing module from Hapi "
   ]
  },
  {
   "cell_type": "code",
   "execution_count": 1,
   "id": "9d733330-95bb-42b4-b6f5-895119345222",
   "metadata": {},
   "outputs": [],
   "source": [
    "from Hapi.remotesensing import RemoteSensing as RS\n",
    "from Hapi.remotesensing import Variables"
   ]
  },
  {
   "cell_type": "markdown",
   "id": "bc750181-4a25-48f1-b510-ee834484b7c9",
   "metadata": {},
   "source": [
    "For the information about the ECMWF data https://apps.ecmwf.int/codes/grib/param-db/\n",
    "ECMWP data are represented ar variables to know the name of the variable you want to download you can check the object `Variables`\n",
    "\n",
    "`Variables` contains the tame of the variable you need to give to the `ECMWF` object to get and the unit and description\n"
   ]
  },
  {
   "cell_type": "code",
   "execution_count": 2,
   "id": "35bb343d-4354-43e2-82ea-6ebf14aa3615",
   "metadata": {},
   "outputs": [
    {
     "name": "stdout",
     "output_type": "stream",
     "text": [
      "Variable name:\n",
      "{'T': 't', '2T': 't2m', 'SRO': 'sro', 'SSRO': 'ssro', 'WIND': 'wind', '10SI': '10si', 'SP': 'sp', 'Q': 'q', 'SSR': 'ssr', 'R': 'r', 'E': 'e', 'SUND': 'sund', 'RO': 'ro', 'TP': 'tp', '10U': 'u10', '10V': 'v10', '2D': 'd2m', 'SR': 'sr', 'AL': 'al', 'HCC': 'hcc'}\n",
      "Descriptions\n",
      "{'T': 'Temperature [K]', '2T': '2 meter Temperature [K]', 'SRO': 'Surface Runoff [m]', 'SSRO': 'Sub-surface Runoff [m]', 'WIND': 'Wind speed [m s-1]', '10SI': '10 metre windspeed [m s-1]', 'SP': 'Surface Pressure [pa]', 'Q': 'Specific humidity [kg kg-1]', 'SSR': 'Surface solar radiation [W m-2 s]', 'R': 'Relative humidity [%]', 'E': 'Evaporation [m of water]', 'SUND': 'Sunshine duration [s]', 'RO': 'Runoff [m]', 'TP': 'Total Precipitation [m]', '10U': '10 metre U wind component [m s-1]', '10V': '10 metre V wind component [m s-1]', '2D': '2 metre dewpoint temperature [K]', 'SR': 'Surface roughness [m]', 'AL': 'Albedo []', 'HCC': 'High cloud cover []'}\n",
      "Units : \n",
      "{'T': 'C', '2T': 'C', 'SRO': 'mm', 'SSRO': 'mm', 'WIND': 'm_s-1', '10SI': 'm_s-1', 'SP': 'kpa', 'Q': 'kg_kg-1', 'SSR': 'W_m-2_s', 'R': 'percentage', 'E': 'mm', 'SUND': 's', 'RO': 'mm', 'TP': 'mm', '10U': 'm_s-1', '10V': 'm_s-1', '2D': 'C', 'SR': 'm', 'AL': '-', 'HCC': '-'}\n"
     ]
    }
   ],
   "source": [
    "Vars = Variables('daily')\n",
    "Vars.__str__()"
   ]
  },
  {
   "cell_type": "markdown",
   "id": "0a2a6ca8-a09b-47b8-b97e-8d1c1e11c561",
   "metadata": {},
   "source": [
    "### Inputs"
   ]
  },
  {
   "cell_type": "markdown",
   "id": "be829713-e3bb-442e-a2b1-5dfffb46b028",
   "metadata": {},
   "source": [
    "- After selecting the variable, temperature and evapotranspiration ['E','T']\n",
    "\n",
    "- You need to provide the period you want to download the data for knowing that the beginning of the data is 1979.01.01 and the end is 2019.08.01\n",
    "     lets say we need the data between '2009-01-01' and '2009-02-01'\n",
    "- then we need to provide the extent in the form of latitude and longitude\n",
    "    for out case stude `Coello` those are lat = [4.19,4.64] and lon = [-75.64,-74.72]"
   ]
  },
  {
   "cell_type": "code",
   "execution_count": 1,
   "id": "c73ad20b-e8cd-4a0e-9107-12a2cfbac207",
   "metadata": {},
   "outputs": [],
   "source": [
    "StartDate = '2009-01-01'\n",
    "EndDate = '2009-02-01'\n",
    "Time = 'daily'\n",
    "lat = [4.190755,4.643963]\n",
    "lon = [-75.649243,-74.727286]\n",
    "Path = \"F:/02Case studies/Coello/Hapi/Data/00/\"\n",
    "# Temperature, Evapotranspiration\n",
    "variables = ['T','E']"
   ]
  },
  {
   "cell_type": "code",
   "execution_count": 4,
   "id": "405220ce-2d9b-4cee-9137-ee639153ef64",
   "metadata": {},
   "outputs": [
    {
     "name": "stdout",
     "output_type": "stream",
     "text": [
      "\n",
      "Download ECMWF T data for period 2009-01-01 00:00:00 till 2009-02-01 00:00:00\n",
      "Use API ECMWF to collect the data, please wait\n",
      "2021-04-10 20:59:21 ECMWF API python library 1.6.1\n",
      "2021-04-10 20:59:21 ECMWF API at https://api.ecmwf.int/v1\n",
      "2021-04-10 20:59:22 Welcome Mostafa Farrag\n",
      "2021-04-10 20:59:23 In case of problems, please check https://confluence.ecmwf.int/display/WEBAPI/Web+API+FAQ or contact servicedesk@ecmwf.int\n",
      "2021-04-10 20:59:23 Request submitted\n",
      "2021-04-10 20:59:23 Request id: 6071f58b5eb08bb640dd671f\n",
      "2021-04-10 20:59:23 Request is submitted\n",
      "2021-04-10 20:59:24 Request is active\n",
      "mars - WARN - From 29 January 2019 10AM (UTC) MARS uses the interpolation\n",
      "mars - WARN - provided by the MIR library. For more details, see\n",
      "mars - WARN - https://confluence.ecmwf.int/display/UDOC/MARS+interpolation+with+MIR\n",
      "mars - WARN -\n",
      "MIR environment variables:\n",
      "MIR_CACHE_PATH=/data/ec_coeff\n",
      "mars - INFO   - 20210410.185924 - Welcome to MARS\n",
      "mars - INFO   - 20210410.185924 - MARS Client bundle version: 6.28.6.1\n",
      "mars - INFO   - 20210410.185924 - MARS Client package version: 6.28.6\n",
      "mars - INFO   - 20210410.185924 - MARS Client build stamp: 20200717102127\n",
      "mars - INFO   - 20210410.185924 - MIR version: 1.4.7\n",
      "mars - INFO   - 20210410.185924 - Using ecCodes version 2.18.0\n",
      "mars - INFO   - 20210410.185924 - Using odb_api version: 0.15.11 (file format version: 0.5)\n",
      "mars - INFO   - 20210410.185924 - Using FDB5 version: 5.6.1\n",
      "mars - INFO   - 20210410.185924 - Maximum retrieval size is 50.00 G\n",
      "retrieve,levelist=1000,stream=oper,area=4.75/-75.75/4.125/-74.625,levtype=pl,param=130.128,padding=0,step=0,grid=0.125/0.125,expver=0001,time=00:00:00/06:00:00/12:00:00/18:00:00,date=2009-01-01 00:00:00/to/2009-02-01 00:00:00,type=an,class=eimars - WARN   - 20210410.185924 - For full resolution grid, it is recommended to use RESOL=AV to prevent any truncation before transformation\n",
      "mars - INFO   - 20210410.185924 - Automatic split by date is on\n",
      "mars - INFO   - 20210410.185924 - Request has been split into 2 monthly retrievals\n",
      "\n",
      "mars - INFO   - 20210410.185924 - Processing request 1\n",
      "sh: /usr/bin/mailx: No such file or directory\n",
      "\n",
      "RETRIEVE,\n",
      "    CLASS      = EI,\n",
      "    TYPE       = AN,\n",
      "    STREAM     = OPER,\n",
      "    EXPVER     = 0001,\n",
      "    REPRES     = SH,\n",
      "    LEVTYPE    = PL,\n",
      "    LEVELIST   = 1000,\n",
      "    PARAM      = 130.128,\n",
      "    TIME       = 0000/0600/1200/1800,\n",
      "    STEP       = 0,\n",
      "    DOMAIN     = G,\n",
      "    RESOL      = AUTO,\n",
      "    AREA       = 4.75/-75.75/4.125/-74.625,\n",
      "    GRID       = 0.125/0.125,\n",
      "    PADDING    = 0,\n",
      "    DATE       = 20090101/20090102/20090103/20090104/20090105/20090106/20090107/20090108/20090109/20090110/20090111/20090112/20090113/20090114/20090115/20090116/20090117/20090118/20090119/20090120/20090121/20090122/20090123/20090124/20090125/20090126/20090127/20090128/20090129/20090130/20090131\n",
      "\n",
      "mars - INFO   - 20210410.185924 - Web API request id: 6071f58b5eb08bb640dd671f\n",
      "mars - INFO   - 20210410.185924 - Requesting 124 fields\n",
      "mars - INFO   - 20210410.185924 - Calling mars on 'marser', local port is 51592\n",
      "mars - INFO   - 20210410.185924 - Server task is 201 [marser]\n",
      "mars - INFO   - 20210410.185924 - Request cost: 124 fields, 15.6833 Mbytes online, nodes: mvr02 [marser]\n",
      "mars - INFO   - 20210410.185924 - The efficiency of your requests in the last 12 hours is 100% [marser]\n",
      "mars - INFO   - 20210410.185924 - Transfering 16445128 bytes\n",
      "mars - INFO   - 20210410.185925 - ShToGridded: loading Legendre coefficients '/data/ec_coeff/mir/legendre/4/local-T255-GaussianN256-OPT4189816c2e.leg'\n",
      "mars - INFO   - 20210410.185927 - 124 fields retrieved from 'marser'\n",
      "mars - INFO   - 20210410.185927 - 124 fields have been interpolated\n",
      "mars - INFO   - 20210410.185927 - Request time:  wall: 3 sec  cpu: 2 sec\n",
      "mars - INFO   - 20210410.185927 -   Read from network: 15.68 Mbyte(s) in < 1 sec [381.69 Mbyte/sec]\n",
      "mars - INFO   - 20210410.185927 -   Visiting marser: wall: 3 sec\n",
      "mars - INFO   - 20210410.185927 -   Post-processing: wall: 2 sec cpu: 2 sec\n",
      "mars - INFO   - 20210410.185927 -   Writing to target file: 27.61 Kbyte(s) in < 1 sec [897.98 Kbyte/sec]\n",
      "\n",
      "mars - INFO   - 20210410.185927 - Processing request 2\n",
      "\n",
      "RETRIEVE,\n",
      "    CLASS      = EI,\n",
      "    TYPE       = AN,\n",
      "    STREAM     = OPER,\n",
      "    EXPVER     = 0001,\n",
      "    REPRES     = SH,\n",
      "    LEVTYPE    = PL,\n",
      "    LEVELIST   = 1000,\n",
      "    PARAM      = 130.128,\n",
      "    TIME       = 0000/0600/1200/1800,\n",
      "    STEP       = 0,\n",
      "    DOMAIN     = G,\n",
      "    RESOL      = AUTO,\n",
      "    AREA       = 4.75/-75.75/4.125/-74.625,\n",
      "    GRID       = 0.125/0.125,\n",
      "    PADDING    = 0,\n",
      "    DATE       = 20090201\n",
      "\n",
      "mars - INFO   - 20210410.185927 - Requesting 4 fields\n",
      "mars - INFO   - 20210410.185927 - Calling mars on 'marser', local port is 47537\n",
      "mars - INFO   - 20210410.185927 - Server task is 201 [marser]\n",
      "mars - INFO   - 20210410.185927 - Request cost: 4 fields, 518.055 Kbytes online, nodes: mvr02 [marser]\n",
      "mars - INFO   - 20210410.185927 - The efficiency of your requests in the last 12 hours is 100% [marser]\n",
      "mars - INFO   - 20210410.185927 - Transfering 530488 bytes\n",
      "mars - INFO   - 20210410.185927 - 4 fields retrieved from 'marser'\n",
      "mars - INFO   - 20210410.185927 - 4 fields have been interpolated\n",
      "mars - INFO   - 20210410.185927 -   Read from network: 518.05 Kbyte(s) in < 1 sec [132.40 Mbyte/sec]\n",
      "mars - INFO   - 20210410.185927 -   Writing to target file: 912.00 byte(s) in < 1 sec [51.12 Kbyte/sec]\n",
      "mars - INFO   - 20210410.185927 - Memory used: 46.17 Mbyte(s)\n",
      "mars - INFO   - 20210410.185927 - No errors reported\n",
      "Process '['nice', 'mars', '/tmp/20210410-1850/38/tmp-_marsANtUhR.req']' finished\n",
      "Calling 'nice grib_to_netcdf /data/scratch/20210410-1850/7f/_mars-webmars-public-svc-green-002-6fe5cac1a363ec1525f54343b6cc9fd8-p8s7fG.grib -o /data/scratch/20210410-1850/5f/_grib2netcdf-webmars-public-svc-green-000-6fe5cac1a363ec1525f54343b6cc9fd8-ynjFav.nc -utime'\n",
      "grib_to_netcdf: Version 2.21.0\n",
      "grib_to_netcdf: Processing input file '/data/scratch/20210410-1850/7f/_mars-webmars-public-svc-green-002-6fe5cac1a363ec1525f54343b6cc9fd8-p8s7fG.grib'.\n",
      "grib_to_netcdf: Found 128 GRIB fields in 1 file.\n",
      "grib_to_netcdf: Ignoring key(s): method, type, stream, refdate, hdate\n",
      "grib_to_netcdf: Creating netCDF file '/data/scratch/20210410-1850/5f/_grib2netcdf-webmars-public-svc-green-000-6fe5cac1a363ec1525f54343b6cc9fd8-ynjFav.nc'\n",
      "grib_to_netcdf: NetCDF library version: 4.3.3.1 of Dec 10 2015 16:44:18 $\n",
      "grib_to_netcdf: Creating large (64 bit) file format.\n",
      "grib_to_netcdf: Defining variable 't'.\n",
      "grib_to_netcdf: Done.\n",
      "Process '['nice', 'grib_to_netcdf', '/data/scratch/20210410-1850/7f/_mars-webmars-public-svc-green-002-6fe5cac1a363ec1525f54343b6cc9fd8-p8s7fG.grib', '-o', '/data/scratch/20210410-1850/5f/_grib2netcdf-webmars-public-svc-green-000-6fe5cac1a363ec1525f54343b6cc9fd8-ynjFav.nc', '-utime']' finished\n",
      "2021-04-10 20:59:30 Request is complete\n",
      "2021-04-10 20:59:30 Transfering 16.6328 Kbytes into data_interim.nc\n",
      "2021-04-10 20:59:30 From https://stream.ecmwf.int/data/webmars-public-svc-green-000/data/scratch/20210410-1850/5f/_grib2netcdf-webmars-public-svc-green-000-6fe5cac1a363ec1525f54343b6cc9fd8-ynjFav.nc\n",
      "2021-04-10 20:59:30 Transfer rate 73.7814 Kbytes/s\n",
      "Progress: |██████████████████████████████████████████████████| 100.0% Complete\n",
      "\n",
      "Download ECMWF E data for period 2009-01-01 00:00:00 till 2009-02-01 00:00:00\n",
      "Use API ECMWF to collect the data, please wait\n",
      "2021-04-10 20:59:31 ECMWF API python library 1.6.1\n",
      "2021-04-10 20:59:31 ECMWF API at https://api.ecmwf.int/v1\n",
      "2021-04-10 20:59:31 Welcome Mostafa Farrag\n",
      "2021-04-10 20:59:32 In case of problems, please check https://confluence.ecmwf.int/display/WEBAPI/Web+API+FAQ or contact servicedesk@ecmwf.int\n",
      "2021-04-10 20:59:32 Request submitted\n",
      "2021-04-10 20:59:32 Request id: 6071f5953debc09c3cb84d17\n",
      "2021-04-10 20:59:32 Request is submitted\n",
      "2021-04-10 20:59:34 Request is active\n",
      "Calling 'nice mars /tmp/20210410-1850/51/tmp-_marsFaXXJY.req'\n",
      "mars - WARN -\n",
      "mars - WARN - From 29 January 2019 10AM (UTC) MARS uses the interpolation\n",
      "mars - WARN - provided by the MIR library. For more details, see\n",
      "mars - WARN - https://confluence.ecmwf.int/display/UDOC/MARS+interpolation+with+MIR\n",
      "mars - WARN -\n",
      "MIR environment variables:\n",
      "MIR_CACHE_PATH=/data/ec_coeff\n",
      "mars - INFO   - 20210410.185933 - Welcome to MARS\n",
      "mars - INFO   - 20210410.185933 - MARS Client bundle version: 6.28.6.1\n",
      "mars - INFO   - 20210410.185933 - MARS Client package version: 6.28.6\n",
      "mars - INFO   - 20210410.185933 - MARS Client build stamp: 20200717102127\n",
      "mars - INFO   - 20210410.185933 - MIR version: 1.4.7\n",
      "mars - INFO   - 20210410.185933 - Using ecCodes version 2.18.0\n",
      "mars - INFO   - 20210410.185933 - Using odb_api version: 0.15.11 (file format version: 0.5)\n",
      "mars - INFO   - 20210410.185933 - Using FDB5 version: 5.6.1\n",
      "mars - INFO   - 20210410.185933 - Maximum retrieval size is 50.00 G\n",
      "retrieve,stream=oper,area=4.75/-75.75/4.125/-74.625,levtype=sfc,param=182.128,padding=0,step=12,grid=0.125/0.125,expver=0001,time=00:00:00/12:00:00,date=2009-01-01 00:00:00/to/2009-02-01 00:00:00,type=fc,class=eimars - WARN   - 20210410.185933 - For full resolution grid, it is recommended to use RESOL=AV to prevent any truncation before transformation\n",
      "mars - INFO   - 20210410.185933 - Automatic split by date is on\n",
      "mars - INFO   - 20210410.185933 - Request has been split into 2 monthly retrievals\n",
      "\n",
      "mars - INFO   - 20210410.185933 - Processing request 1\n",
      "sh: /usr/bin/mailx: No such file or directory\n",
      "\n",
      "RETRIEVE,\n",
      "    CLASS      = EI,\n",
      "    TYPE       = FC,\n",
      "    STREAM     = OPER,\n",
      "    EXPVER     = 0001,\n",
      "    REPRES     = SH,\n",
      "    LEVTYPE    = SFC,\n",
      "    PARAM      = 182.128,\n",
      "    TIME       = 0000/1200,\n",
      "    STEP       = 12,\n",
      "    DOMAIN     = G,\n",
      "    RESOL      = AUTO,\n",
      "    AREA       = 4.75/-75.75/4.125/-74.625,\n",
      "    GRID       = 0.125/0.125,\n",
      "    PADDING    = 0,\n",
      "    DATE       = 20090101/20090102/20090103/20090104/20090105/20090106/20090107/20090108/20090109/20090110/20090111/20090112/20090113/20090114/20090115/20090116/20090117/20090118/20090119/20090120/20090121/20090122/20090123/20090124/20090125/20090126/20090127/20090128/20090129/20090130/20090131\n",
      "\n",
      "mars - INFO   - 20210410.185933 - Web API request id: 6071f5953debc09c3cb84d17\n",
      "mars - INFO   - 20210410.185934 - Requesting 62 fields\n",
      "mars - INFO   - 20210410.185934 - Calling mars on 'marser', local port is 59275\n",
      "mars - INFO   - 20210410.185934 - Server task is 205 [marser]\n",
      "mars - INFO   - 20210410.185934 - Request cost: 62 fields, 10.5423 Mbytes online, nodes: mvr02 [marser]\n",
      "mars - INFO   - 20210410.185934 - The efficiency of your requests in the last 12 hours is 100% [marser]\n",
      "mars - INFO   - 20210410.185934 - Transfering 11054352 bytes\n",
      "mars - INFO   - 20210410.185936 - 62 fields retrieved from 'marser'\n",
      "mars - INFO   - 20210410.185936 - 62 fields have been interpolated\n",
      "mars - INFO   - 20210410.185936 - Request time:  wall: 3 sec\n",
      "mars - INFO   - 20210410.185936 -   Read from network: 10.54 Mbyte(s) in 2 sec  [5.30 Mbyte/sec]\n",
      "mars - INFO   - 20210410.185936 -   Visiting marser: wall: 3 sec\n",
      "mars - INFO   - 20210410.185936 -   Writing to target file: 13.80 Kbyte(s) in < 1 sec [556.24 Kbyte/sec]\n",
      "\n",
      "mars - INFO   - 20210410.185936 - Processing request 2\n",
      "\n",
      "RETRIEVE,\n",
      "    CLASS      = EI,\n",
      "    TYPE       = FC,\n",
      "    STREAM     = OPER,\n",
      "    EXPVER     = 0001,\n",
      "    REPRES     = SH,\n",
      "    LEVTYPE    = SFC,\n",
      "    PARAM      = 182.128,\n",
      "    TIME       = 0000/1200,\n",
      "    STEP       = 12,\n",
      "    DOMAIN     = G,\n",
      "    RESOL      = AUTO,\n",
      "    AREA       = 4.75/-75.75/4.125/-74.625,\n",
      "    GRID       = 0.125/0.125,\n",
      "    PADDING    = 0,\n",
      "    DATE       = 20090201\n",
      "\n",
      "mars - INFO   - 20210410.185936 - Requesting 2 fields\n",
      "mars - INFO   - 20210410.185936 - Calling mars on 'marser', local port is 46695\n",
      "mars - INFO   - 20210410.185936 - Server task is 205 [marser]\n",
      "mars - INFO   - 20210410.185936 - Request cost: 2 fields, 348.234 Kbytes online, nodes: mvr02 [marser]\n",
      "mars - INFO   - 20210410.185936 - The efficiency of your requests in the last 12 hours is 100% [marser]\n",
      "mars - INFO   - 20210410.185936 - Transfering 356592 bytes\n",
      "mars - INFO   - 20210410.185936 - 2 fields retrieved from 'marser'\n",
      "mars - INFO   - 20210410.185936 - 2 fields have been interpolated\n",
      "mars - INFO   - 20210410.185936 -   Read from network: 348.23 Kbyte(s) in < 1 sec [4.62 Mbyte/sec]\n",
      "mars - INFO   - 20210410.185936 -   Writing to target file: 456.00 byte(s) in < 1 sec [30.41 Kbyte/sec]\n",
      "mars - INFO   - 20210410.185936 - Memory used: 38.99 Mbyte(s)\n",
      "mars - INFO   - 20210410.185936 - No errors reported\n",
      "Process '['nice', 'mars', '/tmp/20210410-1850/51/tmp-_marsFaXXJY.req']' finished\n",
      "Calling 'nice grib_to_netcdf /data/scratch/20210410-1850/f7/_mars-webmars-public-svc-green-006-6fe5cac1a363ec1525f54343b6cc9fd8-gvHpBB.grib -o /data/scratch/20210410-1850/a4/_grib2netcdf-webmars-public-svc-green-000-6fe5cac1a363ec1525f54343b6cc9fd8-RCUzBh.nc -utime'\n",
      "grib_to_netcdf: Version 2.21.0\n",
      "grib_to_netcdf: Processing input file '/data/scratch/20210410-1850/f7/_mars-webmars-public-svc-green-006-6fe5cac1a363ec1525f54343b6cc9fd8-gvHpBB.grib'.\n",
      "grib_to_netcdf: Found 64 GRIB fields in 1 file.\n",
      "grib_to_netcdf: Ignoring key(s): method, type, stream, refdate, hdate\n",
      "grib_to_netcdf: Creating netCDF file '/data/scratch/20210410-1850/a4/_grib2netcdf-webmars-public-svc-green-000-6fe5cac1a363ec1525f54343b6cc9fd8-RCUzBh.nc'\n",
      "grib_to_netcdf: NetCDF library version: 4.3.3.1 of Dec 10 2015 16:44:18 $\n",
      "grib_to_netcdf: Creating large (64 bit) file format.\n",
      "grib_to_netcdf: Defining variable 'e'.\n",
      "grib_to_netcdf: Done.\n",
      "Process '['nice', 'grib_to_netcdf', '/data/scratch/20210410-1850/f7/_mars-webmars-public-svc-green-006-6fe5cac1a363ec1525f54343b6cc9fd8-gvHpBB.grib', '-o', '/data/scratch/20210410-1850/a4/_grib2netcdf-webmars-public-svc-green-000-6fe5cac1a363ec1525f54343b6cc9fd8-RCUzBh.nc', '-utime']' finished\n",
      "2021-04-10 20:59:39 Request is complete\n",
      "2021-04-10 20:59:39 Transfering 8.92969 Kbytes into data_interim.nc\n",
      "2021-04-10 20:59:39 From https://stream.ecmwf.int/data/webmars-public-svc-green-000/data/scratch/20210410-1850/a4/_grib2netcdf-webmars-public-svc-green-000-6fe5cac1a363ec1525f54343b6cc9fd8-RCUzBh.nc\n",
      "2021-04-10 20:59:39 Transfer rate 49.6237 Kbytes/s\n",
      "Progress: |██████████████████████████████████████████████████| 100.0% Complete\n"
     ]
    }
   ],
   "source": [
    "Coello = RS(StartDate=StartDate, EndDate=EndDate, Time=Time,\n",
    "            latlim=lat , lonlim=lon, Path=Path, Vars=variables)\n",
    "\n",
    "Coello.ECMWF(Waitbar=1)"
   ]
  },
  {
   "cell_type": "markdown",
   "id": "195e57ae-6345-45a4-a461-865734bafd73",
   "metadata": {},
   "source": [
    "## CHIRPS"
   ]
  },
  {
   "cell_type": "markdown",
   "id": "358e0726-28fb-4200-9674-9d0754b308cd",
   "metadata": {},
   "source": [
    "Using the same inputs (period and extent) CHRIPS data does not deen any registration"
   ]
  },
  {
   "cell_type": "code",
   "execution_count": 2,
   "id": "bf101450-3e00-4572-a50c-673a267996c7",
   "metadata": {},
   "outputs": [],
   "source": [
    "from Hapi.remotesensing import CHIRPS"
   ]
  },
  {
   "cell_type": "code",
   "execution_count": 3,
   "id": "e9ab20a1-786f-4692-913e-94f2f85b0281",
   "metadata": {},
   "outputs": [
    {
     "name": "stdout",
     "output_type": "stream",
     "text": [
      "Progress: |██████████████████████████████████████████████████| 100.0% Complete\n"
     ]
    },
    {
     "data": {
      "text/plain": [
       "True"
      ]
     },
     "execution_count": 3,
     "metadata": {},
     "output_type": "execute_result"
    }
   ],
   "source": [
    "Coello = CHIRPS(StartDate=StartDate, EndDate=EndDate, Time=Time,\n",
    "            latlim=lat , lonlim=lon, Path=Path)\n",
    "Coello.Download()"
   ]
  },
  {
   "cell_type": "markdown",
   "id": "2a2dbda9-82f9-44c3-9d0f-c9b330ae880a",
   "metadata": {},
   "source": [
    "### Parallel download\n",
    "- As the CHRIPS data are downloaded directly from ftp server, so several downloads can be done at the same time\n",
    "- to choose how many cores to be used in the parallelization, you have to provide the parameter `core`\n",
    "- there is no indication bar in case of parallel downloads"
   ]
  },
  {
   "cell_type": "code",
   "execution_count": 4,
   "id": "9d0cfa73-938e-4334-b8cf-9ebc50ddaa81",
   "metadata": {},
   "outputs": [
    {
     "data": {
      "text/plain": [
       "[True,\n",
       " True,\n",
       " True,\n",
       " True,\n",
       " True,\n",
       " True,\n",
       " True,\n",
       " True,\n",
       " True,\n",
       " True,\n",
       " True,\n",
       " True,\n",
       " True,\n",
       " True,\n",
       " True,\n",
       " True,\n",
       " True,\n",
       " True,\n",
       " True,\n",
       " True,\n",
       " True,\n",
       " True,\n",
       " True,\n",
       " True,\n",
       " True,\n",
       " True,\n",
       " True,\n",
       " True,\n",
       " True,\n",
       " True,\n",
       " True,\n",
       " True]"
      ]
     },
     "execution_count": 4,
     "metadata": {},
     "output_type": "execute_result"
    }
   ],
   "source": [
    "Coello.Download(cores=4)"
   ]
  }
 ],
 "metadata": {
  "kernelspec": {
   "display_name": "Python 3",
   "language": "python",
   "name": "python3"
  },
  "language_info": {
   "codemirror_mode": {
    "name": "ipython",
    "version": 3
   },
   "file_extension": ".py",
   "mimetype": "text/x-python",
   "name": "python",
   "nbconvert_exporter": "python",
   "pygments_lexer": "ipython3",
   "version": "3.8.8"
  }
 },
 "nbformat": 4,
 "nbformat_minor": 5
}
