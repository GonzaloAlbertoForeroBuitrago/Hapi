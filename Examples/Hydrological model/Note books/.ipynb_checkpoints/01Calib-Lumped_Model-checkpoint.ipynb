{
 "cells": [
  {
   "cell_type": "code",
   "execution_count": 3,
   "id": "ad01687e",
   "metadata": {},
   "outputs": [],
   "source": [
    "import os\n",
    "Path = \"F:/02Case studies/Coello\"\n",
    "os.chdir(Path)\n",
    "#os.listdir(Path)"
   ]
  },
  {
   "cell_type": "markdown",
   "id": "2bd5322a",
   "metadata": {},
   "source": [
    "### Modules"
   ]
  },
  {
   "cell_type": "code",
   "execution_count": 5,
   "id": "54aa43b6",
   "metadata": {},
   "outputs": [],
   "source": [
    "import pandas as pd\n",
    "import datetime as dt\n",
    "import matplotlib.pyplot as plt\n",
    "import Hapi.hbv_bergestrom92 as HBVLumped\n",
    "\n",
    "from Hapi.calibration import Calibration\n",
    "from Hapi.routing import Routing\n",
    "from Hapi.run import Run\n",
    "import Hapi.performancecriteria as PC"
   ]
  },
  {
   "cell_type": "markdown",
   "id": "1584f9c5",
   "metadata": {},
   "source": [
    "### Paths"
   ]
  },
  {
   "cell_type": "code",
   "execution_count": 6,
   "id": "576dd8b4",
   "metadata": {},
   "outputs": [],
   "source": [
    "Parameterpath = \"Hapi/Model/results/parameters/lumped/Coello_Lumped15062020-1.txt\"\n",
    "Meteopath = \"HAPI/Data/00inputs/Lumped Model/\"\n",
    "Path = \"HAPI/Data/00inputs/Basic_inputs/\"\n",
    "SaveTo = \"Hapi/Model/results/\""
   ]
  },
  {
   "cell_type": "markdown",
   "id": "d3bffd6f",
   "metadata": {},
   "source": [
    "### Meteorological data"
   ]
  },
  {
   "cell_type": "code",
   "execution_count": 7,
   "id": "a89ee25b",
   "metadata": {},
   "outputs": [
    {
     "name": "stdout",
     "output_type": "stream",
     "text": [
      "Lumped Model inputs are read successfully\n"
     ]
    }
   ],
   "source": [
    "start = \"2009-01-01\"\n",
    "end = \"2011-12-31\"\n",
    "name = \"Coello\"\n",
    "\n",
    "Coello = Calibration(name, start, end)\n",
    "Coello.ReadLumpedInputs(Meteopath + \"meteo_data-MSWEP.csv\")"
   ]
  },
  {
   "cell_type": "markdown",
   "id": "eccbe8ee",
   "metadata": {},
   "source": [
    "### Basic_inputs"
   ]
  },
  {
   "cell_type": "code",
   "execution_count": 8,
   "id": "f29da93b",
   "metadata": {},
   "outputs": [
    {
     "name": "stdout",
     "output_type": "stream",
     "text": [
      "Lumped model is read successfully\n"
     ]
    }
   ],
   "source": [
    "# catchment area\n",
    "AreaCoeff = 1530\n",
    "# temporal resolution\n",
    "# [Snow pack, Soil moisture, Upper zone, Lower Zone, Water content]\n",
    "InitialCond = [0,10,10,10,0]\n",
    "# no snow subroutine\n",
    "Snow = 0\n",
    "Coello.ReadLumpedModel(HBVLumped, AreaCoeff, InitialCond)"
   ]
  },
  {
   "cell_type": "markdown",
   "id": "623019fd",
   "metadata": {},
   "source": [
    "# Calibration parameters"
   ]
  },
  {
   "cell_type": "code",
   "execution_count": 12,
   "id": "7db2ce2d",
   "metadata": {},
   "outputs": [
    {
     "name": "stdout",
     "output_type": "stream",
     "text": [
      "Parameters bounds are read successfully\n",
      "Gauges data are read successfully\n"
     ]
    }
   ],
   "source": [
    "# Calibration boundaries\n",
    "UB = pd.read_csv(Path + \"/lumped/UB-3.txt\", index_col = 0, header = None)\n",
    "parnames = UB.index\n",
    "UB = UB[1].tolist()\n",
    "LB = pd.read_csv(Path + \"/lumped/LB-3.txt\", index_col = 0, header = None)\n",
    "LB = LB[1].tolist()\n",
    "\n",
    "Maxbas = True\n",
    "Coello.ReadParametersBounds(UB, LB, Snow, Maxbas=Maxbas)\n",
    "\n",
    "# read parameters obtained from previous run to use it as initial values\n",
    "# parameters = pd.read_csv(Parameterpath, index_col = 0, header = None)\n",
    "# parameters = parameters[1].tolist()\n",
    "parameters = []\n",
    "# Routing\n",
    "Route=1\n",
    "RoutingFn = Routing.TriangularRouting1\n",
    "\n",
    "Basic_inputs=dict(Route=Route, RoutingFn=RoutingFn, InitialValues = parameters)\n",
    "\n",
    "### Objective function\n",
    "# outlet discharge\n",
    "Coello.ReadDischargeGauges(Meteopath+\"Qout_c.csv\", fmt=\"%Y-%m-%d\")\n",
    "\n",
    "OF_args=[]\n",
    "OF=PC.RMSE\n",
    "\n",
    "Coello.ReadObjectiveFn(PC.RMSE, OF_args)"
   ]
  },
  {
   "cell_type": "markdown",
   "id": "baebdf63",
   "metadata": {},
   "source": [
    "# Calibration"
   ]
  },
  {
   "cell_type": "markdown",
   "id": "a4e2b6e5",
   "metadata": {},
   "source": [
    "API options\n",
    "Create the options dictionary all the optimization parameters should be passed\n",
    "to the optimization object inside the option dictionary:\n",
    "\n",
    "\n",
    "to see all options import Optimizer class and check the documentation of the\n",
    "method setOption"
   ]
  },
  {
   "cell_type": "code",
   "execution_count": 13,
   "id": "42e7aaea",
   "metadata": {},
   "outputs": [
    {
     "name": "stdout",
     "output_type": "stream",
     "text": [
      "hms 100\n",
      "hmcr 0.95\n",
      "par 0.65\n",
      "dbw 2000\n",
      "fileout 1\n",
      "xinit 0\n",
      "filename Hapi/Model/results/parameters/01lumped model/Coello_History2021-04-06.txt\n"
     ]
    }
   ],
   "source": [
    "ApiObjArgs = dict(hms=100, hmcr=0.95, par=0.65, dbw=2000, fileout=1, xinit =0,\n",
    "                      filename=SaveTo + \"parameters/01lumped model/Coello_History\"+str(dt.datetime.now())[0:10]+\".txt\")\n",
    "\n",
    "for i in range(len(ApiObjArgs)):\n",
    "    print(list(ApiObjArgs.keys())[i], str(ApiObjArgs[list(ApiObjArgs.keys())[i]]))\n",
    "\n",
    "# pll_type = 'POA'\n",
    "pll_type = None\n",
    "\n",
    "ApiSolveArgs = dict(store_sol=True, display_opts=True, store_hst=True, hot_start=False)\n",
    "\n",
    "OptimizationArgs=[ApiObjArgs, pll_type, ApiSolveArgs]"
   ]
  },
  {
   "cell_type": "markdown",
   "id": "78e02f69",
   "metadata": {},
   "source": [
    "### Run Calibration"
   ]
  },
  {
   "cell_type": "code",
   "execution_count": null,
   "id": "77135022",
   "metadata": {},
   "outputs": [
    {
     "name": "stdout",
     "output_type": "stream",
     "text": [
      "Calibration starts\n",
      "\n",
      "Optimization Problem -- HBV Calibration\n",
      "================================================================================\n",
      "\n",
      "        Objective Function: opt_fun\n",
      "\n",
      "    Objectives:\n",
      "        Name        Value        Optimum\n",
      "\n",
      "\tVariables (c - continuous, i - integer, d - discrete):\n",
      "        Name    Type       Value       Lower Bound  Upper Bound\n",
      "\t     x0       c\t      0.000000       7.00e-01     1.30e+00 \n",
      "\t     x1       c\t      0.000000       5.00e+01     4.00e+02 \n",
      "\t     x2       c\t      0.000000       1.15e+00     2.50e+00 \n",
      "\t     x3       c\t      0.000000       1.00e-01     3.00e-01 \n",
      "\t     x4       c\t      0.000000       4.60e-01     1.00e+00 \n",
      "\t     x5       c\t      0.000000       2.27e-01     8.66e-01 \n",
      "\t     x6       c\t      0.000000       1.24e-01     8.00e-01 \n",
      "\t     x7       c\t      0.000000       5.00e-03     1.07e-01 \n",
      "\t     x8       c\t      0.000000       1.61e+01     7.23e+01 \n",
      "\t     x9       c\t      0.000000       1.66e+00     5.28e+00 \n",
      "\t    x10       c\t      0.000000       1.19e+00     2.00e+00 \n",
      "\n",
      "46.751776416275774\n",
      "41.93161832720069\n",
      "30.59522702988814\n",
      "52.18591114811791\n",
      "85.82833548310825\n",
      "33.44867982655025\n",
      "80.62031139139314\n",
      "58.075443176490296\n",
      "45.88748987738865\n",
      "33.15868254294943\n",
      "28.261147876010636\n",
      "50.93611368306713\n",
      "60.00040326666386\n",
      "74.18803155386345\n",
      "43.302235511146044\n",
      "60.64164774205281\n",
      "55.445089375971726\n",
      "45.895243081875115\n",
      "74.92513144352391\n",
      "65.19579071979429\n",
      "47.78038012081968\n",
      "24.59991286554332\n",
      "55.34759543388777\n",
      "42.67668933566607\n",
      "40.7235318546964\n",
      "32.462658823982785\n",
      "93.55336670208058\n",
      "65.10329145771269\n",
      "29.0212753552567\n",
      "75.12286935829208\n",
      "53.54200169021259\n",
      "60.75582581902494\n",
      "69.93369212690212\n",
      "53.77725816723615\n",
      "52.26761839993971\n",
      "27.053369713245633\n",
      "41.586544000431125\n",
      "57.305564774873204\n",
      "76.7526487882743\n",
      "28.3664751204483\n",
      "45.46878638234659\n",
      "80.66755006382297\n",
      "59.7987522861272\n",
      "43.49078639182847\n",
      "35.55908351033852\n",
      "48.99573531726574\n",
      "88.52403394299623\n",
      "55.016675753075646\n",
      "55.40597755447045\n",
      "52.59823891464018\n",
      "71.90277885883751\n",
      "36.58077176205195\n",
      "96.1876869548765\n",
      "62.40808944773237\n",
      "33.25271956938439\n",
      "66.43507260996414\n",
      "40.84146417833259\n",
      "35.431478402960316\n",
      "50.65856000727713\n",
      "71.92111847581069\n",
      "73.58200483467519\n",
      "41.15043595141629\n",
      "73.70487071697393\n",
      "65.93190640012845\n",
      "45.860165607124664\n",
      "41.421528405831886\n",
      "68.90949533730962\n",
      "27.444940637499798\n",
      "45.150964491932754\n",
      "67.8380342154262\n",
      "76.49872899203751\n",
      "47.52939938025102\n",
      "28.940625478816735\n",
      "69.20505205117638\n",
      "54.656612762900274\n",
      "39.78105238856019\n",
      "96.16823788718176\n",
      "26.6000135903952\n",
      "43.33165610451914\n",
      "87.00010293907613\n",
      "62.04096782412176\n",
      "55.1566443584048\n",
      "64.21492789827964\n",
      "55.08715533930405\n",
      "88.02491673667849\n",
      "66.54021921860826\n",
      "57.097888517818284\n",
      "74.42618404604454\n",
      "85.50383066892319\n",
      "35.719210895724416\n",
      "33.48233321050701\n",
      "44.75099849122755\n",
      "65.0105108180177\n",
      "36.956809500180796\n",
      "73.18767933198068\n",
      "79.37155494606714\n",
      "91.75880400794128\n",
      "28.32516286659357\n",
      "73.00342481403072\n",
      "34.01861178669609\n",
      "81.03711728008996\n",
      "82.15350765539324\n",
      "63.29539772876745\n",
      "63.467960316863206\n",
      "46.118679020133655\n",
      "61.376756916060344\n",
      "74.81849948470246\n",
      "57.86758873899032\n",
      "76.49560986230597\n",
      "68.7979200595919\n",
      "39.52356397620153\n",
      "77.92631934410561\n",
      "42.890614289545915\n",
      "46.41073599176977\n",
      "67.80532247931814\n",
      "60.38179560468662\n",
      "47.08224270460169\n",
      "60.764577787642\n",
      "41.99909701044859\n",
      "33.109983818489816\n",
      "62.91892202550993\n"
     ]
    }
   ],
   "source": [
    "cal_parameters = Coello.LumpedCalibration(Basic_inputs, OptimizationArgs, printError=None)\n",
    "\n",
    "print(\"Objective Function = \" + str(round(cal_parameters[0],2)))\n",
    "print(\"Parameters are \" + str(cal_parameters[1]))\n",
    "print(\"Time = \" + str(round(cal_parameters[2]['time']/60,2)) + \" min\")"
   ]
  },
  {
   "cell_type": "markdown",
   "id": "deddd63a",
   "metadata": {},
   "source": [
    "### Run the Model"
   ]
  },
  {
   "cell_type": "code",
   "execution_count": null,
   "id": "5674017b",
   "metadata": {},
   "outputs": [],
   "source": [
    "Coello.Parameters = cal_parameters[1]\n",
    "Run.RunLumped(Coello, Route, RoutingFn)"
   ]
  },
  {
   "cell_type": "markdown",
   "id": "a22f97e8",
   "metadata": {},
   "source": [
    "### Calculate Performance Criteria"
   ]
  },
  {
   "cell_type": "code",
   "execution_count": null,
   "id": "f372b9a6",
   "metadata": {},
   "outputs": [],
   "source": [
    "Metrics = dict()\n",
    "\n",
    "Qobs = Coello.QGauges[Coello.QGauges.columns[0]]\n",
    "\n",
    "Metrics['RMSE'] = PC.RMSE(Qobs, Coello.Qsim[0])\n",
    "Metrics['NSE'] = PC.NSE(Qobs, Coello.Qsim[0])\n",
    "Metrics['NSEhf'] = PC.NSEHF(Qobs, Coello.Qsim[0])\n",
    "Metrics['KGE'] = PC.KGE(Qobs, Coello.Qsim[0])\n",
    "Metrics['WB'] = PC.WB(Qobs, Coello.Qsim[0])\n",
    "\n",
    "print(\"RMSE= \" + str(round(Metrics['RMSE'],2)))\n",
    "print(\"NSE= \" + str(round(Metrics['NSE'],2)))\n",
    "print(\"NSEhf= \" + str(round(Metrics['NSEhf'],2)))\n",
    "print(\"KGE= \" + str(round(Metrics['KGE'],2)))\n",
    "print(\"WB= \" + str(round(Metrics['WB'],2)))"
   ]
  },
  {
   "cell_type": "markdown",
   "id": "dd845231",
   "metadata": {},
   "source": [
    "### Plotting Hydrograph"
   ]
  },
  {
   "cell_type": "code",
   "execution_count": null,
   "id": "09268e7d",
   "metadata": {},
   "outputs": [],
   "source": [
    "plt.figure(1, figsize=(12,8))\n",
    "plt.plot(Coello.Qsim[0])\n",
    "plt.plot(Qobs)\n",
    "plt.xlabel(\"Time (daily)\")\n",
    "plt.ylabel(\"Flow Hydrograph m3/s\")"
   ]
  },
  {
   "cell_type": "markdown",
   "id": "249dc415",
   "metadata": {},
   "source": [
    "### Save the Parameters"
   ]
  },
  {
   "cell_type": "code",
   "execution_count": null,
   "id": "0ec9ee5d",
   "metadata": {},
   "outputs": [],
   "source": [
    "ParPath = SaveTo + \"parameters/lumped/Parameters\" + str(dt.datetime.now())[0:10] + \".txt\"\n",
    "parameters = pd.DataFrame(index=parnames)\n",
    "parameters['values'] = cal_parameters[1]\n",
    "parameters.to_csv(ParPath, header=None, float_format=\"%0.4f\")"
   ]
  }
 ],
 "metadata": {
  "kernelspec": {
   "display_name": "Python 3",
   "language": "python",
   "name": "python3"
  },
  "language_info": {
   "codemirror_mode": {
    "name": "ipython",
    "version": 3
   },
   "file_extension": ".py",
   "mimetype": "text/x-python",
   "name": "python",
   "nbconvert_exporter": "python",
   "pygments_lexer": "ipython3",
   "version": "3.8.8"
  }
 },
 "nbformat": 4,
 "nbformat_minor": 5
}
