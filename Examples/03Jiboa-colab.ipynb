{
  "nbformat": 4,
  "nbformat_minor": 0,
  "metadata": {
    "kernelspec": {
      "display_name": "Python 3",
      "language": "python",
      "name": "python3"
    },
    "language_info": {
      "codemirror_mode": {
        "name": "ipython",
        "version": 3
      },
      "file_extension": ".py",
      "mimetype": "text/x-python",
      "name": "python",
      "nbconvert_exporter": "python",
      "pygments_lexer": "ipython3",
      "version": "3.7.4"
    },
    "colab": {
      "name": "03Jiboa-colab.ipynb",
      "provenance": [],
      "toc_visible": true,
      "include_colab_link": true
    }
  },
  "cells": [
    {
      "cell_type": "markdown",
      "metadata": {
        "id": "view-in-github",
        "colab_type": "text"
      },
      "source": [
        "<a href=\"https://colab.research.google.com/github/MAfarrag/HAPI/blob/master/Examples/03Jiboa-colab.ipynb\" target=\"_parent\"><img src=\"https://colab.research.google.com/assets/colab-badge.svg\" alt=\"Open In Colab\"/></a>"
      ]
    },
    {
      "cell_type": "markdown",
      "metadata": {
        "id": "M3wlmF0_eaWn",
        "colab_type": "text"
      },
      "source": [
        "# Jiboa Case Study"
      ]
    },
    {
      "cell_type": "markdown",
      "metadata": {
        "id": "zf0ye029eaWq",
        "colab_type": "text"
      },
      "source": [
        "This code is prepared to Run the distributed model for jiboa rover in El Salvador\n",
        "wher the catchment is consisted os a ustream lake and a volcanic area\n",
        "-   you have to make the root directory to the examples folder to enable the code\n",
        "    from reading input files"
      ]
    },
    {
      "cell_type": "code",
      "metadata": {
        "id": "Y8w-WG_3efVB",
        "colab_type": "code",
        "colab": {}
      },
      "source": [
        "# install libraries\n",
        "!pip install Numpy\n",
        "!pip install pandas\n",
        "!pip install pandas\n",
        "!pip install gdal\n",
        "!pip install fiona\n",
        "!pip install shapely\n",
        "!pip install geopandas\n",
        "!pip install shapely\n",
        "!pip install git+https://github.com/MAfarrag/HAPI.git"
      ],
      "execution_count": 0,
      "outputs": []
    },
    {
      "cell_type": "code",
      "metadata": {
        "id": "VX1HFGcwfhEJ",
        "colab_type": "code",
        "colab": {
          "base_uri": "https://localhost:8080/",
          "height": 122
        },
        "outputId": "4f7e30df-4609-4171-ab94-2e4cc4b1ac83"
      },
      "source": [
        "from google.colab import drive\n",
        "drive.mount('/content/drive')"
      ],
      "execution_count": 2,
      "outputs": [
        {
          "output_type": "stream",
          "text": [
            "Go to this URL in a browser: https://accounts.google.com/o/oauth2/auth?client_id=947318989803-6bn6qk8qdgf4n4g3pfee6491hc0brc4i.apps.googleusercontent.com&redirect_uri=urn%3aietf%3awg%3aoauth%3a2.0%3aoob&response_type=code&scope=email%20https%3a%2f%2fwww.googleapis.com%2fauth%2fdocs.test%20https%3a%2f%2fwww.googleapis.com%2fauth%2fdrive%20https%3a%2f%2fwww.googleapis.com%2fauth%2fdrive.photos.readonly%20https%3a%2f%2fwww.googleapis.com%2fauth%2fpeopleapi.readonly\n",
            "\n",
            "Enter your authorization code:\n",
            "··········\n",
            "Mounted at /content/drive\n"
          ],
          "name": "stdout"
        }
      ]
    },
    {
      "cell_type": "markdown",
      "metadata": {
        "id": "cY-rs6ngeaWs",
        "colab_type": "text"
      },
      "source": [
        "### Download Data\n",
        "For the data of this case study you have to download this folder [Jiboa Data](https://drive.google.com/drive/folders/1uyd9mH8pHHUKK9l3bc7QXlsu4EPwy3Mr?usp=sharing) from Google Drive and set it as the working directory instead of the Path defined in the next cell"
      ]
    },
    {
      "cell_type": "markdown",
      "metadata": {
        "id": "9UYKOoK5eaWt",
        "colab_type": "text"
      },
      "source": [
        "## Import modules"
      ]
    },
    {
      "cell_type": "code",
      "metadata": {
        "id": "hUTUchZneaWv",
        "colab_type": "code",
        "colab": {
          "base_uri": "https://localhost:8080/",
          "height": 51
        },
        "outputId": "a3e525f7-c7a7-4e0f-a53d-7e8bfd1b81f0"
      },
      "source": [
        "import os\n",
        "Path = \"/content/drive/My Drive/\"\n",
        "\n",
        "os.chdir(Path)\n",
        "\n",
        "#%library\n",
        "import gdal\n",
        "import datetime as dt\n",
        "import pandas as pd\n",
        "import numpy as np\n",
        "import matplotlib.pyplot as plt\n",
        "\n",
        "# HAPI modules\n",
        "from Hapi.RUN import RunHAPIwithLake\n",
        "import Hapi.HBV as HBV\n",
        "import Hapi.PerformanceCriteria as Pf\n",
        "import Hapi.Raster as Raster"
      ],
      "execution_count": 3,
      "outputs": [
        {
          "output_type": "stream",
          "text": [
            "/usr/local/lib/python3.6/dist-packages/statsmodels/tools/_testing.py:19: FutureWarning: pandas.util.testing is deprecated. Use the functions in the public API at pandas.testing instead.\n",
            "  import pandas.util.testing as tm\n"
          ],
          "name": "stderr"
        }
      ]
    },
    {
      "cell_type": "code",
      "metadata": {
        "id": "CZlm3E7TeaW0",
        "colab_type": "code",
        "colab": {}
      },
      "source": [
        "# the beginning of the simulation of the calibration data\n",
        "start = dt.datetime(2012,6,14,19,00,00)\n",
        "end = dt.datetime(2014,11,17,00,00,00)\n",
        "calib_end = dt.datetime(2013,12,23,00,00,00)\n",
        "\n",
        "# paths to the meteorological data\n",
        "PrecPath = prec_path = \"inputs/Hapi/meteodata/4000/calib/prec_clipped\"\n",
        "Evap_Path = evap_path = \"inputs/Hapi/meteodata/4000/calib/evap_clipped\"\n",
        "TempPath = temp_path = \"inputs/Hapi/meteodata/4000/calib/temp_clipped\"\n",
        "\n",
        "#DemPath = path+\"GIS/4000/dem4000.tif\"\n",
        "FlowAccPath = \"inputs/Hapi/GIS/4000_matched/acc4000.tif\"\n",
        "FlowDPath = \"inputs/Hapi/GIS/4000_matched/fd4000.tif\"\n",
        "ParPath = \"inputs/Hapi/meteodata/4000/parameters/\"\n",
        "#ParPath = \"inputs/Hapi/meteodata/4000/\"+\"parameters.txt\"\n",
        "Paths=[PrecPath, Evap_Path, TempPath, FlowAccPath, FlowDPath, ]"
      ],
      "execution_count": 0,
      "outputs": []
    },
    {
      "cell_type": "code",
      "metadata": {
        "id": "R8zrDjIueaW5",
        "colab_type": "code",
        "colab": {}
      },
      "source": [
        "\n",
        "#p2=[24, 1530]\n",
        "#init_st=[0,5,5,5,0]\n",
        "init_st = np.loadtxt(\"inputs/Hapi/meteodata/Initia-jiboa.txt\", usecols=0).tolist()\n",
        "snow = 0\n",
        "\n",
        "\n",
        "# lake meteorological data\n",
        "ind = pd.date_range(start, end, freq = \"H\" )\n",
        "lakedata = pd.read_csv(\"inputs/Hapi/meteodata/lakedata.csv\", index_col = 0)\n",
        "lakedata.index = ind\n",
        "lakeCalib = lakedata.loc[start:calib_end]\n",
        "lakeValid = lakedata.loc[calib_end:end]\n",
        "# convert the dataframe into array\n",
        "lakeCalibArray = lakeCalib.values\n",
        "# take only the plake, et, t and tm columns and exclude the last column\n",
        "lakeCalibArray = lakeCalibArray[:,0:-1]\n",
        "\n",
        "# where the lake discharges its flow (give the indices of the cell)\n",
        "lakecell = [2,1]    # 4km\n",
        "#lakecell = [4,2]    # 2km\n",
        "#lakecell = [10,4]    # 1km\n",
        "#lakecell = [19,10]    # 500m\n",
        "\n",
        "LakeParameters = np.loadtxt(\"inputs/Hapi/meteodata/4000/Lakeparameters.txt\").tolist()\n",
        "StageDischargeCurve = np.loadtxt(\"inputs/Hapi/meteodata/curve.txt\")\n",
        "p2 = [1, 227.31, 133.98, 70.64]\n",
        "Lake_init_st = np.loadtxt(\"inputs/Hapi/meteodata/Initia-lake.txt\", usecols=0).tolist()"
      ],
      "execution_count": 0,
      "outputs": []
    },
    {
      "cell_type": "markdown",
      "metadata": {
        "id": "I5OdyI_KeaW9",
        "colab_type": "text"
      },
      "source": [
        "# Run the model"
      ]
    },
    {
      "cell_type": "code",
      "metadata": {
        "id": "Brso_XrwiVvV",
        "colab_type": "code",
        "colab": {
          "base_uri": "https://localhost:8080/",
          "height": 34
        },
        "outputId": "fc7852a1-7640-496a-98a5-86d9d6503ef3"
      },
      "source": [
        "os.getcwd()"
      ],
      "execution_count": 12,
      "outputs": [
        {
          "output_type": "execute_result",
          "data": {
            "text/plain": [
              "'/content/drive/My Drive'"
            ]
          },
          "metadata": {
            "tags": []
          },
          "execution_count": 12
        }
      ]
    },
    {
      "cell_type": "code",
      "metadata": {
        "id": "mYZRWMT0idd8",
        "colab_type": "code",
        "colab": {
          "base_uri": "https://localhost:8080/",
          "height": 34
        },
        "outputId": "c0bb0eaa-99a0-4ce3-e122-cfff72b8df01"
      },
      "source": [
        "os.listdir()"
      ],
      "execution_count": 13,
      "outputs": [
        {
          "output_type": "execute_result",
          "data": {
            "text/plain": [
              "['Hapi', 'Jiboa.mxd', 'web application', 'processing', 'inputs', 'results.zip']"
            ]
          },
          "metadata": {
            "tags": []
          },
          "execution_count": 13
        }
      ]
    },
    {
      "cell_type": "code",
      "metadata": {
        "id": "5xivVaDweaW-",
        "colab_type": "code",
        "colab": {}
      },
      "source": [
        "Sim =pd.DataFrame(index = lakeCalib.index)\n",
        "st, Sim['Q'], q_uz_routed, q_lz_trans = RunHAPIwithLake(HBV, Paths, ParPath, p2, init_st,\n",
        "                                                     snow, lakeCalibArray, StageDischargeCurve,\n",
        "                                                     LakeParameters, lakecell,Lake_init_st)"
      ],
      "execution_count": 0,
      "outputs": []
    },
    {
      "cell_type": "markdown",
      "metadata": {
        "id": "kK8Ip1ZkeaXC",
        "colab_type": "text"
      },
      "source": [
        "### Evaluate model performance"
      ]
    },
    {
      "cell_type": "code",
      "metadata": {
        "id": "60mTcaPveaXD",
        "colab_type": "code",
        "colab": {}
      },
      "source": [
        "WS = {}\n",
        "WS['type'] = 1\n",
        "WS['N'] = 3\n",
        "ModelMetrics=dict()\n",
        "ModelMetrics['CalibErrorHf']=Pf.RMSEHF(lakeCalib['Q'],Sim['Q'],WS['type'],WS['N'],0.75)\n",
        "ModelMetrics['CalibErrorLf']=Pf.RMSELF(lakeCalib['Q'],Sim['Q'],WS['type'],WS['N'],0.75)\n",
        "ModelMetrics['CalibNSEHf']=Pf.NSE(lakeCalib['Q'],Sim['Q'])\n",
        "ModelMetrics['CalibNSELf']=Pf.NSE(np.log(lakeCalib['Q']),np.log(Sim['Q']))\n",
        "ModelMetrics['CalibRMSE']=Pf.RMSE(lakeCalib['Q'],Sim['Q'])\n",
        "ModelMetrics['CalibKGE']=Pf.KGE(lakeCalib['Q'],Sim['Q'])\n",
        "ModelMetrics['CalibWB']=Pf.WB(lakeCalib['Q'],Sim['Q'])\n",
        "print(\"RMSE(HF) = \" + str(round(ModelMetrics['CalibErrorHf'],2)))\n",
        "print(\"RMSE(LF) = \" + str(round(ModelMetrics['CalibErrorLf'],2)))\n",
        "print(\"RMSE = \" + str(round(ModelMetrics['CalibRMSE'],2)))\n",
        "print(\"NSE(HF) = \" + str(round(ModelMetrics['CalibNSEHf'],2)))\n",
        "print(\"NSE(LF) = \" + str(round(ModelMetrics['CalibNSELf'],2)))\n",
        "print(\"KGE = \" + str(round(ModelMetrics['CalibKGE'],2)))\n",
        "print(\"WB = \" + str(round(ModelMetrics['CalibWB'],2)))"
      ],
      "execution_count": 0,
      "outputs": []
    },
    {
      "cell_type": "code",
      "metadata": {
        "id": "fvcFNEc5eaXG",
        "colab_type": "code",
        "colab": {}
      },
      "source": [
        "plt.figure(50,figsize=(15,8))\n",
        "Sim.Q.plot(color=[(0,0.3,0.7)],linewidth=2.5,label=\"Simulated data\", zorder = 10)\n",
        "ax1=lakeCalib['Q'].plot(color='#DC143C',linewidth=2.8,label='Observed data')\n",
        "ax1.annotate(\"Model performance\" ,xy=('2012-12-01 00:00:00',20),fontsize=15)\n",
        "ax1.annotate(\"RMSE = \" + str(round(ModelMetrics['CalibRMSE'],3)),xy=('2012-12-01 00:00:00',20-1.5),fontsize=15)\n",
        "ax1.annotate(\"NSE = \" + str(round(ModelMetrics['CalibNSEHf'],2)),xy=('2012-12-01 00:00:00',20-3),fontsize=15)\n",
        "plt.legend()"
      ],
      "execution_count": 0,
      "outputs": []
    },
    {
      "cell_type": "markdown",
      "metadata": {
        "id": "nTZ63xgeeaXL",
        "colab_type": "text"
      },
      "source": [
        "# Store the result into rasters"
      ]
    },
    {
      "cell_type": "code",
      "metadata": {
        "id": "Z_xSCCvJeaXL",
        "colab_type": "code",
        "colab": {}
      },
      "source": [
        "# create list of names\n",
        "src=gdal.Open(FlowAccPath)\n",
        "\n",
        "index=pd.date_range(start,calib_end,freq=\"1H\")\n",
        "\n",
        "resultspath=\"results/upper_zone_discharge/4000/\"\n",
        "names=[resultspath+str(i)[:-6] for i in index]\n",
        "names=[i.replace(\"-\",\"_\") for i in names]\n",
        "names=[i.replace(\" \",\"_\") for i in names]\n",
        "names=[i+\".tif\" for i in names]\n",
        "\n",
        "\n",
        "Raster.RastersLike(src,q_uz_routed[:,:,:-1],names)\n"
      ],
      "execution_count": 0,
      "outputs": []
    }
  ]
}